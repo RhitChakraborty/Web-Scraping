{
 "cells": [
  {
   "cell_type": "code",
   "execution_count": 1,
   "metadata": {},
   "outputs": [],
   "source": [
    "import requests\n",
    "from bs4 import BeautifulSoup as bs"
   ]
  },
  {
   "cell_type": "code",
   "execution_count": 2,
   "metadata": {},
   "outputs": [],
   "source": [
    "url='https://en.wikipedia.org/wiki/List_of_countries_by_GDP_(nominal)'"
   ]
  },
  {
   "cell_type": "code",
   "execution_count": 3,
   "metadata": {},
   "outputs": [],
   "source": [
    "html=requests.get(url).text"
   ]
  },
  {
   "cell_type": "code",
   "execution_count": 5,
   "metadata": {},
   "outputs": [],
   "source": [
    "soup=bs(html,\"lxml\")"
   ]
  },
  {
   "cell_type": "code",
   "execution_count": 1,
   "metadata": {},
   "outputs": [],
   "source": [
    "#print(soup.prettify())"
   ]
  },
  {
   "cell_type": "code",
   "execution_count": 9,
   "metadata": {},
   "outputs": [
    {
     "data": {
      "text/plain": [
       "<title>List of countries by GDP (nominal) - Wikipedia</title>"
      ]
     },
     "execution_count": 9,
     "metadata": {},
     "output_type": "execute_result"
    }
   ],
   "source": [
    "soup.title"
   ]
  },
  {
   "cell_type": "code",
   "execution_count": 11,
   "metadata": {},
   "outputs": [],
   "source": [
    "# # printin all links,title and inner texts\n",
    "# for link in soup.find_all('a'):\n",
    "#     print(f\"Inner text: {link.text}\")\n",
    "#     print(f\"Title: {link.get('title')}\")\n",
    "#     print(f\"href: {link.get('href')}\")"
   ]
  },
  {
   "cell_type": "code",
   "execution_count": 26,
   "metadata": {},
   "outputs": [],
   "source": [
    "gdp_table=soup.find('table',{'class':'wikitable'})"
   ]
  },
  {
   "cell_type": "code",
   "execution_count": 2,
   "metadata": {},
   "outputs": [],
   "source": [
    "#gdp_table"
   ]
  },
  {
   "cell_type": "code",
   "execution_count": 28,
   "metadata": {},
   "outputs": [
    {
     "data": {
      "text/plain": [
       "2"
      ]
     },
     "execution_count": 28,
     "metadata": {},
     "output_type": "execute_result"
    }
   ],
   "source": [
    "len(gdp_table)"
   ]
  },
  {
   "cell_type": "code",
   "execution_count": 31,
   "metadata": {},
   "outputs": [],
   "source": [
    "# gdp_table_data = \n",
    "gdp_table_data=gdp_table.tbody.find_all('tr')"
   ]
  },
  {
   "cell_type": "code",
   "execution_count": 43,
   "metadata": {},
   "outputs": [
    {
     "name": "stdout",
     "output_type": "stream",
     "text": [
      "['Per the International Monetary Fund (2019 estimates)', 'Per the World Bank (2019)', 'Per the United Nations (2018)']\n"
     ]
    }
   ],
   "source": [
    "headings=[]\n",
    "for td in gdp_table_data[0].find_all('td'):\n",
    "    headings.append(td.b.text.strip())\n",
    "print(headings)"
   ]
  },
  {
   "cell_type": "code",
   "execution_count": 45,
   "metadata": {},
   "outputs": [
    {
     "name": "stdout",
     "output_type": "stream",
     "text": [
      "{'Per the International Monetary Fund (2019 estimates)': [{}, {'Rank': '', 'Country/Territory': 'World[19]', 'GDP(US$million)': '87,265,226'}, {'Rank': '1', 'Country/Territory': 'United States', 'GDP(US$million)': '21,439,453'}, {'Rank': '—', 'Country/Territory': 'European Union[23][n 1]', 'GDP(US$million)': '18,705,132'}, {'Rank': '2', 'Country/Territory': 'China[n 2]', 'GDP(US$million)': '14,140,163'}, {'Rank': '3', 'Country/Territory': 'Japan', 'GDP(US$million)': '5,154,475'}, {'Rank': '4', 'Country/Territory': 'Germany', 'GDP(US$million)': '3,863,344'}, {'Rank': '5', 'Country/Territory': 'India', 'GDP(US$million)': '2,935,570'}, {'Rank': '6', 'Country/Territory': 'United Kingdom', 'GDP(US$million)': '2,743,586'}, {'Rank': '7', 'Country/Territory': 'France', 'GDP(US$million)': '2,707,074'}, {'Rank': '8', 'Country/Territory': 'Italy', 'GDP(US$million)': '1,988,636'}, {'Rank': '9', 'Country/Territory': 'Brazil', 'GDP(US$million)': '1,847,020'}, {'Rank': '10', 'Country/Territory': 'Canada', 'GDP(US$million)': '1,730,914'}, {'Rank': '11', 'Country/Territory': 'Russia[n 3]', 'GDP(US$million)': '1,637,892'}, {'Rank': '12', 'Country/Territory': 'Korea, South', 'GDP(US$million)': '1,629,532'}, {'Rank': '13', 'Country/Territory': 'Spain', 'GDP(US$million)': '1,397,870'}, {'Rank': '14', 'Country/Territory': 'Australia', 'GDP(US$million)': '1,376,255'}, {'Rank': '15', 'Country/Territory': 'Mexico', 'GDP(US$million)': '1,274,175'}, {'Rank': '16', 'Country/Territory': 'Indonesia', 'GDP(US$million)': '1,111,713'}, {'Rank': '17', 'Country/Territory': 'Netherlands', 'GDP(US$million)': '902,355'}, {'Rank': '18', 'Country/Territory': 'Saudi Arabia', 'GDP(US$million)': '779,289'}, {'Rank': '19', 'Country/Territory': 'Turkey', 'GDP(US$million)': '743,708'}, {'Rank': '20', 'Country/Territory': 'Switzerland', 'GDP(US$million)': '715,360'}, {'Rank': '—', 'Country/Territory': 'Taiwan', 'GDP(US$million)': '586,104'}, {'Rank': '21', 'Country/Territory': 'Poland', 'GDP(US$million)': '565,854'}, {'Rank': '22', 'Country/Territory': 'Thailand', 'GDP(US$million)': '529,177'}, {'Rank': '23', 'Country/Territory': 'Sweden', 'GDP(US$million)': '528,929'}, {'Rank': '24', 'Country/Territory': 'Belgium', 'GDP(US$million)': '517,609'}, {'Rank': '25', 'Country/Territory': 'Iran', 'GDP(US$million)': '458,500'}, {'Rank': '26', 'Country/Territory': 'Austria', 'GDP(US$million)': '447,718'}, {'Rank': '27', 'Country/Territory': 'Nigeria', 'GDP(US$million)': '446,543'}, {'Rank': '28', 'Country/Territory': 'Argentina', 'GDP(US$million)': '445,469'}, {'Rank': '29', 'Country/Territory': 'Norway', 'GDP(US$million)': '417,627'}, {'Rank': '30', 'Country/Territory': 'United Arab Emirates', 'GDP(US$million)': '405,771'}, {'Rank': '31', 'Country/Territory': 'Israel', 'GDP(US$million)': '387,717'}, {'Rank': '32', 'Country/Territory': 'Ireland', 'GDP(US$million)': '384,940'}, {'Rank': '—', 'Country/Territory': 'Hong Kong', 'GDP(US$million)': '372,989'}, {'Rank': '33', 'Country/Territory': 'Malaysia', 'GDP(US$million)': '365,303'}, {'Rank': '34', 'Country/Territory': 'Singapore', 'GDP(US$million)': '362,818'}, {'Rank': '35', 'Country/Territory': 'South Africa', 'GDP(US$million)': '358,839'}, {'Rank': '36', 'Country/Territory': 'Philippines', 'GDP(US$million)': '356,814'}, {'Rank': '37', 'Country/Territory': 'Denmark', 'GDP(US$million)': '347,176'}, {'Rank': '38', 'Country/Territory': 'Colombia', 'GDP(US$million)': '327,895'}, {'Rank': '39', 'Country/Territory': 'Bangladesh', 'GDP(US$million)': '317,465'}, {'Rank': '40', 'Country/Territory': 'Egypt', 'GDP(US$million)': '302,256'}, {'Rank': '41', 'Country/Territory': 'Chile', 'GDP(US$million)': '294,237'}, {'Rank': '42', 'Country/Territory': 'Pakistan', 'GDP(US$million)': '284,214'}, {'Rank': '43', 'Country/Territory': 'Finland', 'GDP(US$million)': '269,654'}, {'Rank': '44', 'Country/Territory': 'Vietnam', 'GDP(US$million)': '261,637'}, {'Rank': '45', 'Country/Territory': 'Czech Republic', 'GDP(US$million)': '246,953'}, {'Rank': '46', 'Country/Territory': 'Romania', 'GDP(US$million)': '243,698'}, {'Rank': '47', 'Country/Territory': 'Portugal', 'GDP(US$million)': '236,408'}, {'Rank': '48', 'Country/Territory': 'Peru', 'GDP(US$million)': '228,989'}, {'Rank': '49', 'Country/Territory': 'Iraq', 'GDP(US$million)': '224,462'}, {'Rank': '50', 'Country/Territory': 'Greece', 'GDP(US$million)': '214,012'}, {'Rank': '51', 'Country/Territory': 'New Zealand', 'GDP(US$million)': '204,671'}, {'Rank': '52', 'Country/Territory': 'Qatar', 'GDP(US$million)': '191,849'}, {'Rank': '53', 'Country/Territory': 'Algeria', 'GDP(US$million)': '172,781'}, {'Rank': '54', 'Country/Territory': 'Hungary', 'GDP(US$million)': '170,407'}, {'Rank': '55', 'Country/Territory': 'Kazakhstan', 'GDP(US$million)': '170,326'}, {'Rank': '56', 'Country/Territory': 'Ukraine', 'GDP(US$million)': '150,401'}, {'Rank': '57', 'Country/Territory': 'Kuwait', 'GDP(US$million)': '137,591'}, {'Rank': '58', 'Country/Territory': 'Morocco', 'GDP(US$million)': '119,040'}, {'Rank': '59', 'Country/Territory': 'Ecuador', 'GDP(US$million)': '107,914'}, {'Rank': '60', 'Country/Territory': 'Slovakia', 'GDP(US$million)': '106,552'}, {'Rank': '—', 'Country/Territory': 'Puerto Rico', 'GDP(US$million)': '99,913'}, {'Rank': '61', 'Country/Territory': 'Kenya', 'GDP(US$million)': '98,607'}, {'Rank': '62', 'Country/Territory': 'Angola', 'GDP(US$million)': '91,527'}, {'Rank': '63', 'Country/Territory': 'Ethiopia', 'GDP(US$million)': '91,166'}, {'Rank': '64', 'Country/Territory': 'Dominican Republic', 'GDP(US$million)': '89,475'}, {'Rank': '65', 'Country/Territory': 'Sri Lanka', 'GDP(US$million)': '86,566'}, {'Rank': '66', 'Country/Territory': 'Guatemala', 'GDP(US$million)': '81,318'}, {'Rank': '67', 'Country/Territory': 'Oman', 'GDP(US$million)': '76,609'}, {'Rank': '68', 'Country/Territory': 'Venezuela', 'GDP(US$million)': '70,140'}, {'Rank': '69', 'Country/Territory': 'Luxembourg', 'GDP(US$million)': '69,453'}, {'Rank': '70', 'Country/Territory': 'Panama', 'GDP(US$million)': '68,536'}, {'Rank': '71', 'Country/Territory': 'Ghana', 'GDP(US$million)': '67,077'}, {'Rank': '72', 'Country/Territory': 'Bulgaria', 'GDP(US$million)': '66,250'}, {'Rank': '73', 'Country/Territory': 'Myanmar', 'GDP(US$million)': '65,994'}, {'Rank': '74', 'Country/Territory': 'Tanzania', 'GDP(US$million)': '62,224'}, {'Rank': '75', 'Country/Territory': 'Belarus', 'GDP(US$million)': '62,572'}, {'Rank': '76', 'Country/Territory': 'Costa Rica', 'GDP(US$million)': '61,021'}, {'Rank': '77', 'Country/Territory': 'Croatia', 'GDP(US$million)': '60,702'}, {'Rank': '78', 'Country/Territory': 'Uzbekistan', 'GDP(US$million)': '60,490'}, {'Rank': '79', 'Country/Territory': 'Syria[n 4]', 'GDP(US$million)': '60,043/Na'}, {'Rank': '80', 'Country/Territory': 'Uruguay', 'GDP(US$million)': '59,918'}, {'Rank': '81', 'Country/Territory': 'Lebanon', 'GDP(US$million)': '58,565'}, {'Rank': '—', 'Country/Territory': 'Macau', 'GDP(US$million)': '55,136'}, {'Rank': '82', 'Country/Territory': 'Slovenia', 'GDP(US$million)': '54,154'}, {'Rank': '83', 'Country/Territory': 'Lithuania', 'GDP(US$million)': '53,641'}, {'Rank': '84', 'Country/Territory': 'Serbia', 'GDP(US$million)': '51,523'}, {'Rank': '85', 'Country/Territory': 'Congo, Democratic Republic of the', 'GDP(US$million)': '48,994'}, {'Rank': '86', 'Country/Territory': 'Azerbaijan', 'GDP(US$million)': '47,171'}, {'Rank': '87', 'Country/Territory': 'Turkmenistan', 'GDP(US$million)': '46,674'}, {'Rank': '88', 'Country/Territory': \"Côte d'Ivoire\", 'GDP(US$million)': '44,439'}, {'Rank': '89', 'Country/Territory': 'Jordan', 'GDP(US$million)': '44,172'}, {'Rank': '90', 'Country/Territory': 'Bolivia', 'GDP(US$million)': '42,401'}, {'Rank': '91', 'Country/Territory': 'Paraguay', 'GDP(US$million)': '40,714'}, {'Rank': '92', 'Country/Territory': 'Tunisia', 'GDP(US$million)': '38,732'}, {'Rank': '93', 'Country/Territory': 'Cameroon', 'GDP(US$million)': '38,632'}, {'Rank': '94', 'Country/Territory': 'Bahrain', 'GDP(US$million)': '38,184'}, {'Rank': '95', 'Country/Territory': 'Latvia', 'GDP(US$million)': '35,045'}, {'Rank': '96', 'Country/Territory': 'Libya', 'GDP(US$million)': '33,018'}, {'Rank': '97', 'Country/Territory': 'Estonia', 'GDP(US$million)': '31,038'}, {'Rank': '98', 'Country/Territory': 'Sudan', 'GDP(US$million)': '30,873'}, {'Rank': '99', 'Country/Territory': 'Uganda', 'GDP(US$million)': '30,666'}, {'Rank': '100', 'Country/Territory': 'Yemen', 'GDP(US$million)': '29,855'}, {'Rank': '101', 'Country/Territory': 'Nepal', 'GDP(US$million)': '29,813'}, {'Rank': '102', 'Country/Territory': 'El Salvador', 'GDP(US$million)': '26,871'}, {'Rank': '103', 'Country/Territory': 'Cambodia', 'GDP(US$million)': '26,730'}, {'Rank': '104', 'Country/Territory': 'Honduras', 'GDP(US$million)': '24,449'}, {'Rank': '105', 'Country/Territory': 'Cyprus', 'GDP(US$million)': '24,280'}, {'Rank': '106', 'Country/Territory': 'Zambia', 'GDP(US$million)': '23,946'}, {'Rank': '107', 'Country/Territory': 'Senegal', 'GDP(US$million)': '23,940'}, {'Rank': '108', 'Country/Territory': 'Iceland', 'GDP(US$million)': '23,918'}, {'Rank': '109', 'Country/Territory': 'Papua New Guinea', 'GDP(US$million)': '23,587'}, {'Rank': '110', 'Country/Territory': 'Trinidad and Tobago', 'GDP(US$million)': '22,607'}, {'Rank': '111', 'Country/Territory': 'Bosnia and Herzegovina', 'GDP(US$million)': '20,106'}, {'Rank': '112', 'Country/Territory': 'Laos', 'GDP(US$million)': '19,127'}, {'Rank': '113', 'Country/Territory': 'Afghanistan', 'GDP(US$million)': '18,734'}, {'Rank': '114', 'Country/Territory': 'Botswana', 'GDP(US$million)': '18,690'}, {'Rank': '115', 'Country/Territory': 'Mali', 'GDP(US$million)': '17,647'}, {'Rank': '117', 'Country/Territory': 'Gabon', 'GDP(US$million)': '16,877'}, {'Rank': '116', 'Country/Territory': 'Georgia', 'GDP(US$million)': '15,925'}, {'Rank': '118', 'Country/Territory': 'Jamaica', 'GDP(US$million)': '15,702'}, {'Rank': '119', 'Country/Territory': 'Albania', 'GDP(US$million)': '15,418'}, {'Rank': '120', 'Country/Territory': 'Mozambique', 'GDP(US$million)': '15,093'}, {'Rank': '121', 'Country/Territory': 'Malta', 'GDP(US$million)': '14,859'}, {'Rank': '122', 'Country/Territory': 'Burkina Faso', 'GDP(US$million)': '14,593'}, {'Rank': '123', 'Country/Territory': 'Mauritius', 'GDP(US$million)': '14,391'}, {'Rank': '124', 'Country/Territory': 'Benin', 'GDP(US$million)': '14,374'}, {'Rank': '125', 'Country/Territory': 'Namibia', 'GDP(US$million)': '14,368'}, {'Rank': '126', 'Country/Territory': 'Mongolia', 'GDP(US$million)': '13,637'}, {'Rank': '127', 'Country/Territory': 'Armenia', 'GDP(US$million)': '13,444'}, {'Rank': '128', 'Country/Territory': 'Guinea', 'GDP(US$million)': '13,368'}, {'Rank': '129', 'Country/Territory': 'Zimbabwe', 'GDP(US$million)': '12,818'}, {'Rank': '130', 'Country/Territory': 'North Macedonia', 'GDP(US$million)': '12,672'}, {'Rank': '131', 'Country/Territory': 'Bahamas, The', 'GDP(US$million)': '12,664'}, {'Rank': '132', 'Country/Territory': 'Madagascar', 'GDP(US$million)': '12,550'}, {'Rank': '133', 'Country/Territory': 'Nicaragua', 'GDP(US$million)': '12,528'}, {'Rank': '134', 'Country/Territory': 'Brunei', 'GDP(US$million)': '12,455'}, {'Rank': '135', 'Country/Territory': 'Equatorial Guinea', 'GDP(US$million)': '12,142'}, {'Rank': '136', 'Country/Territory': 'Moldova', 'GDP(US$million)': '11,688'}, {'Rank': '137', 'Country/Territory': 'Congo, Republic of the', 'GDP(US$million)': '11,576'}, {'Rank': '138', 'Country/Territory': 'Chad', 'GDP(US$million)': '11,026'}, {'Rank': '139', 'Country/Territory': 'Rwanda', 'GDP(US$million)': '10,209'}, {'Rank': '140', 'Country/Territory': 'Niger', 'GDP(US$million)': '9,443'}, {'Rank': '141', 'Country/Territory': 'Haiti', 'GDP(US$million)': '8,819'}, {'Rank': '142', 'Country/Territory': 'Kyrgyzstan', 'GDP(US$million)': '8,261'}, {'Rank': '143', 'Country/Territory': 'Tajikistan', 'GDP(US$million)': '8,152'}, {'Rank': '—', 'Country/Territory': 'Kosovo', 'GDP(US$million)': '7,996'}, {'Rank': '144', 'Country/Territory': 'Malawi', 'GDP(US$million)': '7,522'}, {'Rank': '145', 'Country/Territory': 'Maldives', 'GDP(US$million)': '5,786'}, {'Rank': '146', 'Country/Territory': 'Togo', 'GDP(US$million)': '5,502'}, {'Rank': '147', 'Country/Territory': 'Mauritania', 'GDP(US$million)': '5,651'}, {'Rank': '148', 'Country/Territory': 'Montenegro', 'GDP(US$million)': '5,424'}, {'Rank': '149', 'Country/Territory': 'Fiji', 'GDP(US$million)': '5,708'}, {'Rank': '150', 'Country/Territory': 'Barbados', 'GDP(US$million)': '5,189'}, {'Rank': '151', 'Country/Territory': 'Somalia', 'GDP(US$million)': '4,958'}, {'Rank': '152', 'Country/Territory': 'Eswatini', 'GDP(US$million)': '4,657'}, {'Rank': '153', 'Country/Territory': 'Sierra Leone', 'GDP(US$million)': '4,229'}, {'Rank': '154', 'Country/Territory': 'Guyana', 'GDP(US$million)': '4,121'}, {'Rank': '155', 'Country/Territory': 'Suriname', 'GDP(US$million)': '3,774'}, {'Rank': '156', 'Country/Territory': 'South Sudan', 'GDP(US$million)': '3,681'}, {'Rank': '157', 'Country/Territory': 'Burundi', 'GDP(US$million)': '3,573'}, {'Rank': '158', 'Country/Territory': 'Liberia', 'GDP(US$million)': '3,221'}, {'Rank': '159', 'Country/Territory': 'Djibouti', 'GDP(US$million)': '3,166'}, {'Rank': '160', 'Country/Territory': 'Timor-Leste', 'GDP(US$million)': '2,938'}, {'Rank': '—', 'Country/Territory': 'Aruba', 'GDP(US$million)': '2,903'}, {'Rank': '161', 'Country/Territory': 'Bhutan', 'GDP(US$million)': '2,842'}, {'Rank': '162', 'Country/Territory': 'Lesotho', 'GDP(US$million)': '2,741'}, {'Rank': '163', 'Country/Territory': 'Central African Republic', 'GDP(US$million)': '2,321'}, {'Rank': '164', 'Country/Territory': 'Eritrea', 'GDP(US$million)': '2,110'}, {'Rank': '165', 'Country/Territory': 'Belize', 'GDP(US$million)': '2,001'}, {'Rank': '166', 'Country/Territory': 'Saint Lucia', 'GDP(US$million)': '1,992'}, {'Rank': '167', 'Country/Territory': 'Gambia, The', 'GDP(US$million)': '1,773'}, {'Rank': '168', 'Country/Territory': 'Antigua and Barbuda', 'GDP(US$million)': '1,688'}, {'Rank': '169', 'Country/Territory': 'Seychelles', 'GDP(US$million)': '1,644'}, {'Rank': '170', 'Country/Territory': 'San Marino', 'GDP(US$million)': '1,591'}, {'Rank': '171', 'Country/Territory': 'Solomon Islands', 'GDP(US$million)': '1,440'}, {'Rank': '172', 'Country/Territory': 'Grenada', 'GDP(US$million)': '1,238'}, {'Rank': '173', 'Country/Territory': 'Comoros', 'GDP(US$million)': '1,179'}, {'Rank': '174', 'Country/Territory': 'Saint Kitts and Nevis', 'GDP(US$million)': '1,032'}, {'Rank': '175', 'Country/Territory': 'Vanuatu', 'GDP(US$million)': '951'}, {'Rank': '176', 'Country/Territory': 'Samoa', 'GDP(US$million)': '905'}, {'Rank': '177', 'Country/Territory': 'Saint Vincent and the Grenadines', 'GDP(US$million)': '856'}, {'Rank': '178', 'Country/Territory': 'Dominica', 'GDP(US$million)': '593'}, {'Rank': '179', 'Country/Territory': 'Tonga', 'GDP(US$million)': '488'}, {'Rank': '180', 'Country/Territory': 'São Tomé and Príncipe', 'GDP(US$million)': '430'}, {'Rank': '181', 'Country/Territory': 'Micronesia, Federated States of', 'GDP(US$million)': '381'}, {'Rank': '182', 'Country/Territory': 'Palau', 'GDP(US$million)': '291'}, {'Rank': '183', 'Country/Territory': 'Marshall Islands', 'GDP(US$million)': '220'}, {'Rank': '184', 'Country/Territory': 'Kiribati', 'GDP(US$million)': '184'}, {'Rank': '185', 'Country/Territory': 'Nauru', 'GDP(US$million)': '108'}, {'Rank': '186', 'Country/Territory': 'Tuvalu', 'GDP(US$million)': '42'}], 'Per the World Bank (2019)': [{}, {'Rank': '', 'Country/Territory': 'World', 'GDP(US$million)': '87,751,541'}, {'Rank': '1', 'Country/Territory': 'United States', 'GDP(US$million)': '21,427,700'}, {'Rank': '2', 'Country/Territory': 'China[n 5]', 'GDP(US$million)': '14,342,903'}, {'Rank': '3', 'Country/Territory': 'Japan', 'GDP(US$million)': '5,081,770'}, {'Rank': '4', 'Country/Territory': 'Germany', 'GDP(US$million)': '3,845,630'}, {'Rank': '5', 'Country/Territory': 'India', 'GDP(US$million)': '2,875,142'}, {'Rank': '6', 'Country/Territory': 'United Kingdom', 'GDP(US$million)': '2,827,113'}, {'Rank': '7', 'Country/Territory': 'France', 'GDP(US$million)': '2,715,518'}, {'Rank': '8', 'Country/Territory': 'Italy', 'GDP(US$million)': '2,001,244'}, {'Rank': '9', 'Country/Territory': 'Brazil', 'GDP(US$million)': '1,839,758'}, {'Rank': '10', 'Country/Territory': 'Canada', 'GDP(US$million)': '1,736,426'}, {'Rank': '11', 'Country/Territory': 'Russia[n 3]', 'GDP(US$million)': '1,699,877'}, {'Rank': '12', 'Country/Territory': 'Korea, South', 'GDP(US$million)': '1,642,383'}, {'Rank': '13', 'Country/Territory': 'Spain', 'GDP(US$million)': '1,394,116'}, {'Rank': '14', 'Country/Territory': 'Australia', 'GDP(US$million)': '1,392,681'}, {'Rank': '15', 'Country/Territory': 'Mexico', 'GDP(US$million)': '1,258,287'}, {'Rank': '16', 'Country/Territory': 'Indonesia', 'GDP(US$million)': '1,119,191'}, {'Rank': '17', 'Country/Territory': 'Netherlands', 'GDP(US$million)': '909,070'}, {'Rank': '18', 'Country/Territory': 'Saudi Arabia', 'GDP(US$million)': '792,967'}, {'Rank': '19', 'Country/Territory': 'Turkey', 'GDP(US$million)': '754,412'}, {'Rank': '20', 'Country/Territory': 'Switzerland', 'GDP(US$million)': '703,082'}, {'Rank': '21', 'Country/Territory': 'Poland', 'GDP(US$million)': '592,164'}, {'Rank': '—', 'Country/Territory': 'Taiwan', 'GDP(US$million)': '574,905 (2017)'}, {'Rank': '22', 'Country/Territory': 'Thailand', 'GDP(US$million)': '543,650'}, {'Rank': '23', 'Country/Territory': 'Sweden', 'GDP(US$million)': '530,833'}, {'Rank': '24', 'Country/Territory': 'Belgium', 'GDP(US$million)': '529,607'}, {'Rank': '25', 'Country/Territory': 'Argentina', 'GDP(US$million)': '449,663'}, {'Rank': '26', 'Country/Territory': 'Nigeria', 'GDP(US$million)': '448,120'}, {'Rank': '27', 'Country/Territory': 'Austria', 'GDP(US$million)': '446,315'}, {'Rank': '28', 'Country/Territory': 'Iran', 'GDP(US$million)': '445,345 (2017)'}, {'Rank': '29', 'Country/Territory': 'United Arab Emirates', 'GDP(US$million)': '421,142'}, {'Rank': '30', 'Country/Territory': 'Norway', 'GDP(US$million)': '403,336'}, {'Rank': '31', 'Country/Territory': 'Israel', 'GDP(US$million)': '395,099'}, {'Rank': '32', 'Country/Territory': 'Ireland', 'GDP(US$million)': '388,699'}, {'Rank': '33', 'Country/Territory': 'Philippines', 'GDP(US$million)': '376,796'}, {'Rank': '34', 'Country/Territory': 'Singapore', 'GDP(US$million)': '372,063'}, {'Rank': '—', 'Country/Territory': 'Hong Kong', 'GDP(US$million)': '366,030'}, {'Rank': '35', 'Country/Territory': 'Malaysia', 'GDP(US$million)': '364,702'}, {'Rank': '36', 'Country/Territory': 'South Africa', 'GDP(US$million)': '351,432'}, {'Rank': '37', 'Country/Territory': 'Denmark', 'GDP(US$million)': '348,078'}, {'Rank': '38', 'Country/Territory': 'Colombia', 'GDP(US$million)': '323,803'}, {'Rank': '39', 'Country/Territory': 'Egypt', 'GDP(US$million)': '303,175'}, {'Rank': '40', 'Country/Territory': 'Bangladesh', 'GDP(US$million)': '302,571'}, {'Rank': '41', 'Country/Territory': 'Chile', 'GDP(US$million)': '282,318'}, {'Rank': '42', 'Country/Territory': 'Pakistan', 'GDP(US$million)': '278,222'}, {'Rank': '43', 'Country/Territory': 'Finland', 'GDP(US$million)': '268,761'}, {'Rank': '44', 'Country/Territory': 'Vietnam', 'GDP(US$million)': '261,921'}, {'Rank': '45', 'Country/Territory': 'Romania', 'GDP(US$million)': '250,077'}, {'Rank': '46', 'Country/Territory': 'Czech Republic', 'GDP(US$million)': '246,489'}, {'Rank': '47', 'Country/Territory': 'Portugal', 'GDP(US$million)': '237,686'}, {'Rank': '48', 'Country/Territory': 'Iraq', 'GDP(US$million)': '234,094'}, {'Rank': '49', 'Country/Territory': 'Peru', 'GDP(US$million)': '226,848'}, {'Rank': '50', 'Country/Territory': 'Greece', 'GDP(US$million)': '209,853'}, {'Rank': '51', 'Country/Territory': 'New Zealand', 'GDP(US$million)': '206,929'}, {'Rank': '52', 'Country/Territory': 'Qatar', 'GDP(US$million)': '183,466'}, {'Rank': '53', 'Country/Territory': 'Kazakhstan', 'GDP(US$million)': '180,162'}, {'Rank': '54', 'Country/Territory': 'Algeria', 'GDP(US$million)': '169,988'}, {'Rank': '55', 'Country/Territory': 'Hungary', 'GDP(US$million)': '160,967'}, {'Rank': '56', 'Country/Territory': 'Ukraine', 'GDP(US$million)': '153,781'}, {'Rank': '57', 'Country/Territory': 'Kuwait', 'GDP(US$million)': '134,761'}, {'Rank': '58', 'Country/Territory': 'Morocco[n 6]', 'GDP(US$million)': '118,725'}, {'Rank': '59', 'Country/Territory': 'Ecuador', 'GDP(US$million)': '107,436'}, {'Rank': '60', 'Country/Territory': 'Slovak Republic', 'GDP(US$million)': '105,422'}, {'Rank': '61', 'Country/Territory': 'Puerto Rico', 'GDP(US$million)': '104,989'}, {'Rank': '—', 'Country/Territory': 'Cuba', 'GDP(US$million)': '100,023 (2018)'}, {'Rank': '62', 'Country/Territory': 'Ethiopia', 'GDP(US$million)': '96,108'}, {'Rank': '63', 'Country/Territory': 'Kenya', 'GDP(US$million)': '95,503'}, {'Rank': '64', 'Country/Territory': 'Angola', 'GDP(US$million)': '94,635'}, {'Rank': '65', 'Country/Territory': 'Dominican Republic', 'GDP(US$million)': '88,941'}, {'Rank': '66', 'Country/Territory': 'Sri Lanka', 'GDP(US$million)': '84,009'}, {'Rank': '67', 'Country/Territory': 'Oman', 'GDP(US$million)': '76,983'}, {'Rank': '68', 'Country/Territory': 'Guatemala', 'GDP(US$million)': '76,710'}, {'Rank': '69', 'Country/Territory': 'Myanmar', 'GDP(US$million)': '76,086'}, {'Rank': '70', 'Country/Territory': 'Luxembourg', 'GDP(US$million)': '71,105'}, {'Rank': '71', 'Country/Territory': 'Bulgaria', 'GDP(US$million)': '67,927'}, {'Rank': '72', 'Country/Territory': 'Ghana', 'GDP(US$million)': '66,984'}, {'Rank': '73', 'Country/Territory': 'Panama', 'GDP(US$million)': '66,801'}, {'Rank': '74', 'Country/Territory': 'Tanzania[n 7]', 'GDP(US$million)': '63,177'}, {'Rank': '75', 'Country/Territory': 'Belarus', 'GDP(US$million)': '63,080'}, {'Rank': '76', 'Country/Territory': 'Costa Rica', 'GDP(US$million)': '61,774'}, {'Rank': '77', 'Country/Territory': 'Croatia', 'GDP(US$million)': '60,416'}, {'Rank': '78', 'Country/Territory': \"Cote d'Ivoire\", 'GDP(US$million)': '58,792'}, {'Rank': '79', 'Country/Territory': 'Uzbekistan', 'GDP(US$million)': '57,921'}, {'Rank': '—', 'Country/Territory': 'Uruguay', 'GDP(US$million)': '56,046'}, {'Rank': '80', 'Country/Territory': 'Lithuania', 'GDP(US$million)': '54,219'}, {'Rank': '81', 'Country/Territory': 'Macau', 'GDP(US$million)': '53,859'}, {'Rank': '82', 'Country/Territory': 'Slovenia', 'GDP(US$million)': '53,742'}, {'Rank': '83', 'Country/Territory': 'Lebanon', 'GDP(US$million)': '53,367'}, {'Rank': '84', 'Country/Territory': 'Libya', 'GDP(US$million)': '52,076'}, {'Rank': '85', 'Country/Territory': 'Serbia', 'GDP(US$million)': '51,409'}, {'Rank': '86', 'Country/Territory': 'Azerbaijan', 'GDP(US$million)': '48,048'}, {'Rank': '87', 'Country/Territory': 'Congo, Democratic Republic of the', 'GDP(US$million)': '47,320'}, {'Rank': '88', 'Country/Territory': 'Jordan', 'GDP(US$million)': '43,744'}, {'Rank': '89', 'Country/Territory': 'Bolivia', 'GDP(US$million)': '40,895'}, {'Rank': '90', 'Country/Territory': 'Turkmenistan', 'GDP(US$million)': '40,761 (2018)'}, {'Rank': '91', 'Country/Territory': 'Tunisia', 'GDP(US$million)': '38,798'}, {'Rank': '92', 'Country/Territory': 'Cameroon', 'GDP(US$million)': '38,760'}, {'Rank': '93', 'Country/Territory': 'Bahrain', 'GDP(US$million)': '38,574'}, {'Rank': '94', 'Country/Territory': 'Paraguay', 'GDP(US$million)': '38,145'}, {'Rank': '95', 'Country/Territory': 'Uganda', 'GDP(US$million)': '34,387'}, {'Rank': '96', 'Country/Territory': 'Latvia', 'GDP(US$million)': '34,117'}, {'Rank': '97', 'Country/Territory': 'Estonia', 'GDP(US$million)': '31,387'}, {'Rank': '98', 'Country/Territory': 'Nepal', 'GDP(US$million)': '30,641'}, {'Rank': '99', 'Country/Territory': 'Cambodia', 'GDP(US$million)': '27,089'}, {'Rank': '100', 'Country/Territory': 'El Salvador', 'GDP(US$million)': '27,023'}, {'Rank': '101', 'Country/Territory': 'Honduras', 'GDP(US$million)': '25,095'}, {'Rank': '102', 'Country/Territory': 'Papua New Guinea', 'GDP(US$million)': '24,970'}, {'Rank': '103', 'Country/Territory': 'Cyprus[n 8]', 'GDP(US$million)': '24,565'}, {'Rank': '104', 'Country/Territory': 'Iceland', 'GDP(US$million)': '24,188'}, {'Rank': '105', 'Country/Territory': 'Trinidad and Tobago', 'GDP(US$million)': '24,100'}, {'Rank': '106', 'Country/Territory': 'Senegal', 'GDP(US$million)': '23,578'}, {'Rank': '107', 'Country/Territory': 'Zambia', 'GDP(US$million)': '23,065'}, {'Rank': '108', 'Country/Territory': 'Zimbabwe', 'GDP(US$million)': '21,441'}, {'Rank': '109', 'Country/Territory': 'Bosnia and Herzegovina', 'GDP(US$million)': '20,048'}, {'Rank': '110', 'Country/Territory': 'Afghanistan', 'GDP(US$million)': '19,101'}, {'Rank': '111', 'Country/Territory': 'Sudan', 'GDP(US$million)': '18,902'}, {'Rank': '112', 'Country/Territory': 'Botswana', 'GDP(US$million)': '18,341'}, {'Rank': '113', 'Country/Territory': 'Laos', 'GDP(US$million)': '18,174'}, {'Rank': '114', 'Country/Territory': 'Georgia[n 9]', 'GDP(US$million)': '17,743'}, {'Rank': '115', 'Country/Territory': 'Mali', 'GDP(US$million)': '17,510'}, {'Rank': '116', 'Country/Territory': 'Gabon', 'GDP(US$million)': '16,658'}, {'Rank': '117', 'Country/Territory': 'Jamaica', 'GDP(US$million)': '16,458'}, {'Rank': '118', 'Country/Territory': 'Burkina Faso', 'GDP(US$million)': '15,746'}, {'Rank': '—', 'Country/Territory': 'Albania', 'GDP(US$million)': '15,278'}, {'Rank': '119', 'Country/Territory': 'Mozambique', 'GDP(US$million)': '14,934'}, {'Rank': '120', 'Country/Territory': 'Malta', 'GDP(US$million)': '14,786'}, {'Rank': '121', 'Country/Territory': 'West Bank and Gaza', 'GDP(US$million)': '14,616 (2018)'}, {'Rank': '122', 'Country/Territory': 'Benin', 'GDP(US$million)': '14,391'}, {'Rank': '123', 'Country/Territory': 'Mauritius', 'GDP(US$million)': '14,180'}, {'Rank': '124', 'Country/Territory': 'Madagascar', 'GDP(US$million)': '14,084'}, {'Rank': '125', 'Country/Territory': 'Mongolia', 'GDP(US$million)': '13,853'}, {'Rank': '126', 'Country/Territory': 'Armenia', 'GDP(US$million)': '13,673'}, {'Rank': '127', 'Country/Territory': 'Guinea', 'GDP(US$million)': '13,590'}, {'Rank': '128', 'Country/Territory': 'Brunei', 'GDP(US$million)': '13,469'}, {'Rank': '129', 'Country/Territory': 'Niger', 'GDP(US$million)': '12,928'}, {'Rank': '130', 'Country/Territory': 'Bahamas, The', 'GDP(US$million)': '12,827'}, {'Rank': '131', 'Country/Territory': 'North Macedonia', 'GDP(US$million)': '12,695'}, {'Rank': '132', 'Country/Territory': 'Nicaragua', 'GDP(US$million)': '12,521'}, {'Rank': '133', 'Country/Territory': 'Namibia', 'GDP(US$million)': '12,367'}, {'Rank': '134', 'Country/Territory': 'Moldova[n 10]', 'GDP(US$million)': '11,955'}, {'Rank': '135', 'Country/Territory': 'Chad', 'GDP(US$million)': '11,315'}, {'Rank': '136', 'Country/Territory': 'Equatorial Guinea', 'GDP(US$million)': '11,027'}, {'Rank': '137', 'Country/Territory': 'Congo, Republic of the', 'GDP(US$million)': '10,821'}, {'Rank': '138', 'Country/Territory': 'Rwanda', 'GDP(US$million)': '10,122'}, {'Rank': '139', 'Country/Territory': 'Haiti', 'GDP(US$million)': '8,499'}, {'Rank': '140', 'Country/Territory': 'Kyrgyzstan', 'GDP(US$million)': '8,455'}, {'Rank': '—', 'Country/Territory': 'Tajikistan', 'GDP(US$million)': '8,117'}, {'Rank': '141', 'Country/Territory': 'Kosovo', 'GDP(US$million)': '7,926'}, {'Rank': '142', 'Country/Territory': 'Malawi', 'GDP(US$million)': '7,667'}, {'Rank': '143', 'Country/Territory': 'Mauritania', 'GDP(US$million)': '7,594'}, {'Rank': '144', 'Country/Territory': 'Maldives', 'GDP(US$million)': '5,729'}, {'Rank': '145', 'Country/Territory': 'Fiji', 'GDP(US$million)': '5,536'}, {'Rank': '146', 'Country/Territory': 'Montenegro', 'GDP(US$million)': '5,495'}, {'Rank': '147', 'Country/Territory': 'Togo', 'GDP(US$million)': '5,460'}, {'Rank': '148', 'Country/Territory': 'Barbados', 'GDP(US$million)': '5,209'}, {'Rank': '149', 'Country/Territory': 'Eswatini', 'GDP(US$million)': '4,405'}, {'Rank': '150', 'Country/Territory': 'Guyana', 'GDP(US$million)': '4,280'}, {'Rank': '151', 'Country/Territory': 'Suriname', 'GDP(US$million)': '3,985'}, {'Rank': '152', 'Country/Territory': 'Sierra Leone', 'GDP(US$million)': '3,941'}, {'Rank': '153', 'Country/Territory': 'Djibouti', 'GDP(US$million)': '3,319'}, {'Rank': '154', 'Country/Territory': 'Andorra', 'GDP(US$million)': '3,154'}, {'Rank': '155', 'Country/Territory': 'Liberia', 'GDP(US$million)': '3,071'}, {'Rank': '156', 'Country/Territory': 'Burundi', 'GDP(US$million)': '3,012'}, {'Rank': '157', 'Country/Territory': 'Lesotho', 'GDP(US$million)': '2,460'}, {'Rank': '158', 'Country/Territory': 'Bhutan', 'GDP(US$million)': '2,447 (2018)'}, {'Rank': '159', 'Country/Territory': 'Central African Republic', 'GDP(US$million)': '2,220'}, {'Rank': '160', 'Country/Territory': 'Saint Lucia', 'GDP(US$million)': '2,122'}, {'Rank': '161', 'Country/Territory': 'Cabo Verde', 'GDP(US$million)': '1,982'}, {'Rank': '162', 'Country/Territory': 'Belize', 'GDP(US$million)': '1,880'}, {'Rank': '163', 'Country/Territory': 'Gambia, The', 'GDP(US$million)': '1,764'}, {'Rank': '164', 'Country/Territory': 'Antigua and Barbuda', 'GDP(US$million)': '1,728'}, {'Rank': '165', 'Country/Territory': 'Seychelles', 'GDP(US$million)': '1,699'}, {'Rank': '166', 'Country/Territory': 'Timor-Leste', 'GDP(US$million)': '1,674'}, {'Rank': '167', 'Country/Territory': 'San Marino', 'GDP(US$million)': '1,638 (2018)'}, {'Rank': '168', 'Country/Territory': 'Solomon Islands', 'GDP(US$million)': '1,425'}, {'Rank': '169', 'Country/Territory': 'Guinea-Bissau', 'GDP(US$million)': '1,340'}, {'Rank': '170', 'Country/Territory': 'Grenada', 'GDP(US$million)': '1,228'}, {'Rank': '171', 'Country/Territory': 'Comoros', 'GDP(US$million)': '1,186'}, {'Rank': '172', 'Country/Territory': 'Saint Kitts and Nevis', 'GDP(US$million)': '1,051'}, {'Rank': '173', 'Country/Territory': 'Vanuatu', 'GDP(US$million)': '917'}, {'Rank': '174', 'Country/Territory': 'Samoa', 'GDP(US$million)': '851'}, {'Rank': '175', 'Country/Territory': 'Saint Vincent and the Grenadines', 'GDP(US$million)': '825'}, {'Rank': '176', 'Country/Territory': 'Dominica', 'GDP(US$million)': '596'}, {'Rank': '177', 'Country/Territory': 'Tonga', 'GDP(US$million)': '450 (2018)'}, {'Rank': '178', 'Country/Territory': 'Sao Tome and Principe', 'GDP(US$million)': '429'}, {'Rank': '179', 'Country/Territory': 'Micronesia, Federated States of', 'GDP(US$million)': '402 (2018)'}, {'Rank': '180', 'Country/Territory': 'Palau', 'GDP(US$million)': '284 (2018)'}, {'Rank': '181', 'Country/Territory': 'Marshall Islands', 'GDP(US$million)': '221 (2018)'}, {'Rank': '182', 'Country/Territory': 'Kiribati', 'GDP(US$million)': '195'}, {'Rank': '183', 'Country/Territory': 'Nauru', 'GDP(US$million)': '118'}, {'Rank': '184', 'Country/Territory': 'Tuvalu', 'GDP(US$million)': '47'}], 'Per the United Nations (2018)': [{}, {'Rank': '', 'Country/Territory': 'World[25]', 'GDP(US$million)': '85,085,189'}, {'Rank': '1', 'Country/Territory': 'United States', 'GDP(US$million)': '20,580,223'}, {'Rank': '2', 'Country/Territory': 'China[n 5]', 'GDP(US$million)': '13,608,152'}, {'Rank': '3', 'Country/Territory': 'Japan', 'GDP(US$million)': '4,971,323'}, {'Rank': '4', 'Country/Territory': 'Germany', 'GDP(US$million)': '3,949,549'}, {'Rank': '5', 'Country/Territory': 'United Kingdom', 'GDP(US$million)': '2,855,297'}, {'Rank': '6', 'Country/Territory': 'India', 'GDP(US$million)': '2,779,351'}, {'Rank': '7', 'Country/Territory': 'France', 'GDP(US$million)': '2,778,892'}, {'Rank': '8', 'Country/Territory': 'Italy', 'GDP(US$million)': '2,084,882'}, {'Rank': '9', 'Country/Territory': 'Brazil', 'GDP(US$million)': '1,868,613'}, {'Rank': '10', 'Country/Territory': 'Korea, South', 'GDP(US$million)': '1,720,489'}, {'Rank': '11', 'Country/Territory': 'Canada', 'GDP(US$million)': '1,712,562'}, {'Rank': '12', 'Country/Territory': 'Russia[n 3]', 'GDP(US$million)': '1,660,514'}, {'Rank': '13', 'Country/Territory': 'Australia', 'GDP(US$million)': '1,453,871'}, {'Rank': '14', 'Country/Territory': 'Spain', 'GDP(US$million)': '1,419,735'}, {'Rank': '15', 'Country/Territory': 'Mexico', 'GDP(US$million)': '1,223,401'}, {'Rank': '16', 'Country/Territory': 'Indonesia', 'GDP(US$million)': '1,042,173'}, {'Rank': '17', 'Country/Territory': 'Netherlands', 'GDP(US$million)': '914,105'}, {'Rank': '18', 'Country/Territory': 'Saudi Arabia', 'GDP(US$million)': '782,484'}, {'Rank': '19', 'Country/Territory': 'Turkey', 'GDP(US$million)': '771,355'}, {'Rank': '20', 'Country/Territory': 'Switzerland', 'GDP(US$million)': '705,141'}, {'Rank': '21', 'Country/Territory': 'Poland', 'GDP(US$million)': '585,661'}, {'Rank': '—', 'Country/Territory': 'Taiwan', 'GDP(US$million)': '579,865'}, {'Rank': '22', 'Country/Territory': 'Sweden', 'GDP(US$million)': '556,087'}, {'Rank': '23', 'Country/Territory': 'Belgium', 'GDP(US$million)': '543,026'}, {'Rank': '24', 'Country/Territory': 'Argentina', 'GDP(US$million)': '518,475'}, {'Rank': '25', 'Country/Territory': 'Thailand', 'GDP(US$million)': '504,992'}, {'Rank': '26', 'Country/Territory': 'Iran', 'GDP(US$million)': '473,091'}, {'Rank': '27', 'Country/Territory': 'Austria', 'GDP(US$million)': '455,508'}, {'Rank': '28', 'Country/Territory': 'Norway', 'GDP(US$million)': '434,167'}, {'Rank': '29', 'Country/Territory': 'Nigeria', 'GDP(US$million)': '421,821'}, {'Rank': '30', 'Country/Territory': 'United Arab Emirates', 'GDP(US$million)': '414,179'}, {'Rank': '31', 'Country/Territory': 'Ireland', 'GDP(US$million)': '382,674'}, {'Rank': '32', 'Country/Territory': 'Israel', 'GDP(US$million)': '370,588'}, {'Rank': '33', 'Country/Territory': 'South Africa', 'GDP(US$million)': '368,094'}, {'Rank': '—', 'Country/Territory': 'Hong Kong', 'GDP(US$million)': '362,682'}, {'Rank': '34', 'Country/Territory': 'Singapore', 'GDP(US$million)': '361,115'}, {'Rank': '35', 'Country/Territory': 'Malaysia', 'GDP(US$million)': '358,579'}, {'Rank': '36', 'Country/Territory': 'Denmark', 'GDP(US$million)': '355,675'}, {'Rank': '37', 'Country/Territory': 'Philippines', 'GDP(US$million)': '330,910'}, {'Rank': '38', 'Country/Territory': 'Colombia', 'GDP(US$million)': '330,228'}, {'Rank': '39', 'Country/Territory': 'Chile', 'GDP(US$million)': '298,231'}, {'Rank': '40', 'Country/Territory': 'Pakistan', 'GDP(US$million)': '282,346'}, {'Rank': '41', 'Country/Territory': 'Finland', 'GDP(US$million)': '276,878'}, {'Rank': '42', 'Country/Territory': 'Bangladesh', 'GDP(US$million)': '269,628'}, {'Rank': '43', 'Country/Territory': 'Egypt', 'GDP(US$million)': '249,751'}, {'Rank': '44', 'Country/Territory': 'Czech Republic', 'GDP(US$million)': '245,226'}, {'Rank': '45', 'Country/Territory': 'Vietnam', 'GDP(US$million)': '244,901'}, {'Rank': '46', 'Country/Territory': 'Portugal', 'GDP(US$million)': '240,792'}, {'Rank': '47', 'Country/Territory': 'Romania', 'GDP(US$million)': '239,552'}, {'Rank': '48', 'Country/Territory': 'Peru', 'GDP(US$million)': '222,237'}, {'Rank': '49', 'Country/Territory': 'Greece', 'GDP(US$million)': '218,139'}, {'Rank': '50', 'Country/Territory': 'Iraq', 'GDP(US$million)': '212,272'}, {'Rank': '51', 'Country/Territory': 'Venezuela', 'GDP(US$million)': '208,339'}, {'Rank': '52', 'Country/Territory': 'New Zealand', 'GDP(US$million)': '207,921'}, {'Rank': '53', 'Country/Territory': 'Qatar', 'GDP(US$million)': '191,362'}, {'Rank': '54', 'Country/Territory': 'Kazakhstan', 'GDP(US$million)': '179,340'}, {'Rank': '55', 'Country/Territory': 'Algeria', 'GDP(US$million)': '173,758'}, {'Rank': '56', 'Country/Territory': 'Hungary', 'GDP(US$million)': '157,883'}, {'Rank': '57', 'Country/Territory': 'Kuwait', 'GDP(US$million)': '141,698'}, {'Rank': '58', 'Country/Territory': 'Ukraine', 'GDP(US$million)': '130,832'}, {'Rank': '59', 'Country/Territory': 'Morocco', 'GDP(US$million)': '117,921'}, {'Rank': '60', 'Country/Territory': 'Ecuador', 'GDP(US$million)': '108,398'}, {'Rank': '61', 'Country/Territory': 'Slovakia', 'GDP(US$million)': '105,956'}, {'Rank': '62', 'Country/Territory': 'Angola', 'GDP(US$million)': '105,902'}, {'Rank': '—', 'Country/Territory': 'Puerto Rico', 'GDP(US$million)': '101,131'}, {'Rank': '63', 'Country/Territory': 'Cuba', 'GDP(US$million)': '100,023'}, {'Rank': '64', 'Country/Territory': 'Oman', 'GDP(US$million)': '92,112'}, {'Rank': '65', 'Country/Territory': 'Sri Lanka', 'GDP(US$million)': '88,942'}, {'Rank': '66', 'Country/Territory': 'Kenya', 'GDP(US$million)': '87,906'}, {'Rank': '67', 'Country/Territory': 'Dominican Republic', 'GDP(US$million)': '81,299'}, {'Rank': '68', 'Country/Territory': 'Ethiopia', 'GDP(US$million)': '80,293'}, {'Rank': '69', 'Country/Territory': 'Guatemala', 'GDP(US$million)': '78,461'}, {'Rank': '70', 'Country/Territory': 'Myanmar', 'GDP(US$million)': '72,745'}, {'Rank': '71', 'Country/Territory': 'Luxembourg', 'GDP(US$million)': '70,920'}, {'Rank': '72', 'Country/Territory': 'Bulgaria', 'GDP(US$million)': '66,199'}, {'Rank': '73', 'Country/Territory': 'Ghana', 'GDP(US$million)': '65,535'}, {'Rank': '74', 'Country/Territory': 'Panama', 'GDP(US$million)': '65,055'}, {'Rank': '75', 'Country/Territory': 'Croatia', 'GDP(US$million)': '60,991'}, {'Rank': '76', 'Country/Territory': 'Costa Rica', 'GDP(US$million)': '60,126'}, {'Rank': '77', 'Country/Territory': 'Belarus', 'GDP(US$million)': '59,662'}, {'Rank': '78', 'Country/Territory': 'Uruguay', 'GDP(US$million)': '59,597'}, {'Rank': '79', 'Country/Territory': 'Tanzania', 'GDP(US$million)': '57,145'}, {'Rank': '80', 'Country/Territory': 'Lebanon', 'GDP(US$million)': '56,409'}, {'Rank': '—', 'Country/Territory': 'Macau', 'GDP(US$million)': '54,545'}, {'Rank': '81', 'Country/Territory': 'Slovenia', 'GDP(US$million)': '54,034'}, {'Rank': '82', 'Country/Territory': 'Lithuania', 'GDP(US$million)': '53,455'}, {'Rank': '83', 'Country/Territory': 'Serbia', 'GDP(US$million)': '50,597'}, {'Rank': '84', 'Country/Territory': 'Sudan', 'GDP(US$million)': '50,514'}, {'Rank': '85', 'Country/Territory': 'Uzbekistan', 'GDP(US$million)': '50,500'}, {'Rank': '86', 'Country/Territory': 'Congo, Democratic Republic of the', 'GDP(US$million)': '47,146'}, {'Rank': '87', 'Country/Territory': 'Azerbaijan', 'GDP(US$million)': '46,939'}, {'Rank': '88', 'Country/Territory': \"Côte d'Ivoire\", 'GDP(US$million)': '43,028'}, {'Rank': '89', 'Country/Territory': 'Jordan', 'GDP(US$million)': '42,231'}, {'Rank': '90', 'Country/Territory': 'Turkmenistan', 'GDP(US$million)': '40,749'}, {'Rank': '91', 'Country/Territory': 'Paraguay', 'GDP(US$million)': '40,308'}, {'Rank': '92', 'Country/Territory': 'Bolivia', 'GDP(US$million)': '40,288'}, {'Rank': '93', 'Country/Territory': 'Tunisia', 'GDP(US$million)': '39,895'}, {'Rank': '94', 'Country/Territory': 'Cameroon', 'GDP(US$million)': '38,694'}, {'Rank': '95', 'Country/Territory': 'Bahrain', 'GDP(US$million)': '37,876'}, {'Rank': '96', 'Country/Territory': 'Latvia', 'GDP(US$million)': '34,426'}, {'Rank': '97', 'Country/Territory': 'Libya', 'GDP(US$million)': '34,377'}, {'Rank': '98', 'Country/Territory': 'Estonia', 'GDP(US$million)': '30,747'}, {'Rank': '99', 'Country/Territory': 'Uganda', 'GDP(US$million)': '30,098'}, {'Rank': '100', 'Country/Territory': 'Nepal', 'GDP(US$million)': '27,830'}, {'Rank': '101', 'Country/Territory': 'Zambia', 'GDP(US$million)': '27,283'}, {'Rank': '102', 'Country/Territory': 'Yemen', 'GDP(US$million)': '26,672'}, {'Rank': '103', 'Country/Territory': 'El Salvador', 'GDP(US$million)': '26,057'}, {'Rank': '104', 'Country/Territory': 'Iceland', 'GDP(US$million)': '25,882'}, {'Rank': '105', 'Country/Territory': 'Cyprus', 'GDP(US$million)': '24,963'}, {'Rank': '106', 'Country/Territory': 'Cambodia', 'GDP(US$million)': '24,572'}, {'Rank': '107', 'Country/Territory': 'Zimbabwe', 'GDP(US$million)': '24,312'}, {'Rank': '108', 'Country/Territory': 'Honduras', 'GDP(US$million)': '23,970'}, {'Rank': '109', 'Country/Territory': 'Senegal', 'GDP(US$million)': '23,809'}, {'Rank': '110', 'Country/Territory': 'Trinidad and Tobago', 'GDP(US$million)': '23,808'}, {'Rank': '111', 'Country/Territory': 'Papua New Guinea', 'GDP(US$million)': '23,077'}, {'Rank': '112', 'Country/Territory': 'Afghanistan', 'GDP(US$million)': '20,514'}, {'Rank': '113', 'Country/Territory': 'Bosnia and Herzegovina', 'GDP(US$million)': '19,782'}, {'Rank': '114', 'Country/Territory': 'Botswana', 'GDP(US$million)': '18,615'}, {'Rank': '115', 'Country/Territory': 'Laos', 'GDP(US$million)': '17,954'}, {'Rank': '116', 'Country/Territory': 'Georgia', 'GDP(US$million)': '17,600'}, {'Rank': '117', 'Country/Territory': 'Korea, North', 'GDP(US$million)': '17,487'}, {'Rank': '118', 'Country/Territory': 'Mali', 'GDP(US$million)': '17,172'}, {'Rank': '119', 'Country/Territory': 'Gabon', 'GDP(US$million)': '16,994'}, {'Rank': '120', 'Country/Territory': 'Syria', 'GDP(US$million)': '16,628'}, {'Rank': '—', 'Country/Territory': 'Palestine', 'GDP(US$million)': '16,277'}, {'Rank': '121', 'Country/Territory': 'Burkina Faso', 'GDP(US$million)': '16,200'}, {'Rank': '122', 'Country/Territory': 'Jamaica', 'GDP(US$million)': '15,714'}, {'Rank': '123', 'Country/Territory': 'Albania', 'GDP(US$million)': '15,059'}, {'Rank': '124', 'Country/Territory': 'Mozambique', 'GDP(US$million)': '14,717'}, {'Rank': '125', 'Country/Territory': 'Malta', 'GDP(US$million)': '14,549'}, {'Rank': '126', 'Country/Territory': 'Namibia', 'GDP(US$million)': '14,519'}, {'Rank': '127', 'Country/Territory': 'Mauritius', 'GDP(US$million)': '14,220'}, {'Rank': '128', 'Country/Territory': 'Congo, Republic of the', 'GDP(US$million)': '14,173'}, {'Rank': '129', 'Country/Territory': 'Madagascar', 'GDP(US$million)': '13,851'}, {'Rank': '130', 'Country/Territory': 'Brunei', 'GDP(US$million)': '13,567'}, {'Rank': '131', 'Country/Territory': 'Equatorial Guinea', 'GDP(US$million)': '13,324'}, {'Rank': '132', 'Country/Territory': 'Nicaragua', 'GDP(US$million)': '13,118'}, {'Rank': '133', 'Country/Territory': 'Mongolia', 'GDP(US$million)': '13,010'}, {'Rank': '134', 'Country/Territory': 'Niger', 'GDP(US$million)': '12,821'}, {'Rank': '135', 'Country/Territory': 'North Macedonia', 'GDP(US$million)': '12,629'}, {'Rank': '136', 'Country/Territory': 'Armenia', 'GDP(US$million)': '12,433'}, {'Rank': '137', 'Country/Territory': 'Bahamas, The', 'GDP(US$million)': '12,425'}, {'Rank': '138', 'Country/Territory': 'Guinea', 'GDP(US$million)': '11,640'}, {'Rank': '139', 'Country/Territory': 'Chad', 'GDP(US$million)': '11,387'}, {'Rank': '140', 'Country/Territory': 'Moldova', 'GDP(US$million)': '11,309'}, {'Rank': '141', 'Country/Territory': 'Benin', 'GDP(US$million)': '10,412'}, {'Rank': '—', 'Country/Territory': 'New Caledonia', 'GDP(US$million)': '10,174'}, {'Rank': '142', 'Country/Territory': 'Rwanda', 'GDP(US$million)': '9,510'}, {'Rank': '143', 'Country/Territory': 'Haiti', 'GDP(US$million)': '9,287'}, {'Rank': '144', 'Country/Territory': 'South Sudan', 'GDP(US$million)': '8,207'}, {'Rank': '145', 'Country/Territory': 'Kyrgyzstan', 'GDP(US$million)': '8,093'}, {'Rank': '—', 'Country/Territory': 'Kosovo', 'GDP(US$million)': '7,943'}, {'Rank': '146', 'Country/Territory': 'Mauritania', 'GDP(US$million)': '7,620'}, {'Rank': '147', 'Country/Territory': 'Tajikistan', 'GDP(US$million)': '7,523'}, {'Rank': '148', 'Country/Territory': 'Malawi', 'GDP(US$million)': '7,196'}, {'Rank': '149', 'Country/Territory': 'Monaco', 'GDP(US$million)': '7,189'}, {'Rank': '150', 'Country/Territory': 'Eritrea', 'GDP(US$million)': '6,855'}, {'Rank': '151', 'Country/Territory': 'Liechtenstein', 'GDP(US$million)': '6,796'}, {'Rank': '—', 'Country/Territory': 'Bermuda', 'GDP(US$million)': '6,351'}, {'Rank': '—', 'Country/Territory': 'French Polynesia', 'GDP(US$million)': '6,100'}, {'Rank': '152', 'Country/Territory': 'Fiji', 'GDP(US$million)': '5,537'}, {'Rank': '153', 'Country/Territory': 'Montenegro', 'GDP(US$million)': '5,507'}, {'Rank': '—', 'Country/Territory': 'Cayman Islands', 'GDP(US$million)': '5,485'}, {'Rank': '154', 'Country/Territory': 'Maldives', 'GDP(US$million)': '5,327'}, {'Rank': '155', 'Country/Territory': 'Togo', 'GDP(US$million)': '5,166'}, {'Rank': '156', 'Country/Territory': 'Barbados', 'GDP(US$million)': '5,087'}, {'Rank': '157', 'Country/Territory': 'Eswatini', 'GDP(US$million)': '4,711'}, {'Rank': '158', 'Country/Territory': 'Sierra Leone', 'GDP(US$million)': '4,101'}, {'Rank': '159', 'Country/Territory': 'Guyana', 'GDP(US$million)': '3,818'}, {'Rank': '160', 'Country/Territory': 'Suriname', 'GDP(US$million)': '3,458'}, {'Rank': '161', 'Country/Territory': 'Burundi', 'GDP(US$million)': '3,285'}, {'Rank': '162', 'Country/Territory': 'Andorra', 'GDP(US$million)': '3,238'}, {'Rank': '—', 'Country/Territory': 'Aruba', 'GDP(US$million)': '3,203'}, {'Rank': '—', 'Country/Territory': 'Curaçao', 'GDP(US$million)': '3,128'}, {'Rank': '—', 'Country/Territory': 'Greenland', 'GDP(US$million)': '3,052'}, {'Rank': '163', 'Country/Territory': 'Djibouti', 'GDP(US$million)': '2,923'}, {'Rank': '164', 'Country/Territory': 'Bhutan', 'GDP(US$million)': '2,658'}, {'Rank': '165', 'Country/Territory': 'Lesotho', 'GDP(US$million)': '2,631'}, {'Rank': '166', 'Country/Territory': 'Timor-Leste', 'GDP(US$million)': '2,581'}, {'Rank': '167', 'Country/Territory': 'Central African Republic', 'GDP(US$million)': '2,243'}, {'Rank': '168', 'Country/Territory': 'Liberia', 'GDP(US$million)': '2,121'}, {'Rank': '169', 'Country/Territory': 'Cape Verde', 'GDP(US$million)': '1,977'}, {'Rank': '170', 'Country/Territory': 'Saint Lucia', 'GDP(US$million)': '1,922'}, {'Rank': '171', 'Country/Territory': 'Belize', 'GDP(US$million)': '1,871'}, {'Rank': '172', 'Country/Territory': 'San Marino', 'GDP(US$million)': '1,638'}, {'Rank': '173', 'Country/Territory': 'Gambia, The', 'GDP(US$million)': '1,633'}, {'Rank': '—', 'Country/Territory': 'Zanzibar', 'GDP(US$million)': '1,618'}, {'Rank': '174', 'Country/Territory': 'Antigua and Barbuda', 'GDP(US$million)': '1,611'}, {'Rank': '175', 'Country/Territory': 'Seychelles', 'GDP(US$million)': '1,590'}, {'Rank': '176', 'Country/Territory': 'Somalia', 'GDP(US$million)': '1,495'}, {'Rank': '177', 'Country/Territory': 'Guinea-Bissau', 'GDP(US$million)': '1,459'}, {'Rank': '—', 'Country/Territory': 'British Virgin Islands', 'GDP(US$million)': '1,445'}, {'Rank': '178', 'Country/Territory': 'Solomon Islands', 'GDP(US$million)': '1,271'}, {'Rank': '179', 'Country/Territory': 'Grenada', 'GDP(US$million)': '1,169'}, {'Rank': '180', 'Country/Territory': 'Comoros', 'GDP(US$million)': '1,166'}, {'Rank': '—', 'Country/Territory': 'Turks and Caicos Islands', 'GDP(US$million)': '1,022'}, {'Rank': '181', 'Country/Territory': 'Saint Kitts and Nevis', 'GDP(US$million)': '1,011'}, {'Rank': '—', 'Country/Territory': 'Sint Maarten', 'GDP(US$million)': '980'}, {'Rank': '182', 'Country/Territory': 'Vanuatu', 'GDP(US$million)': '889'}, {'Rank': '183', 'Country/Territory': 'Samoa', 'GDP(US$million)': '834'}, {'Rank': '184', 'Country/Territory': 'Saint Vincent and the Grenadines', 'GDP(US$million)': '811'}, {'Rank': '185', 'Country/Territory': 'Dominica', 'GDP(US$million)': '551'}, {'Rank': '186', 'Country/Territory': 'Tonga', 'GDP(US$million)': '504'}, {'Rank': '187', 'Country/Territory': 'São Tomé and Príncipe', 'GDP(US$million)': '411'}, {'Rank': '188', 'Country/Territory': 'Micronesia, Federated States of', 'GDP(US$million)': '371'}, {'Rank': '—', 'Country/Territory': 'Cook Islands', 'GDP(US$million)': '363'}, {'Rank': '—', 'Country/Territory': 'Anguilla', 'GDP(US$million)': '293'}, {'Rank': '189', 'Country/Territory': 'Palau', 'GDP(US$million)': '284'}, {'Rank': '190', 'Country/Territory': 'Marshall Islands', 'GDP(US$million)': '214'}, {'Rank': '191', 'Country/Territory': 'Kiribati', 'GDP(US$million)': '189'}, {'Rank': '192', 'Country/Territory': 'Nauru', 'GDP(US$million)': '127'}, {'Rank': '—', 'Country/Territory': 'Montserrat', 'GDP(US$million)': '64'}, {'Rank': '193', 'Country/Territory': 'Tuvalu', 'GDP(US$million)': '46'}]}\n"
     ]
    }
   ],
   "source": [
    "data={}\n",
    "for table,heading in zip(gdp_table_data[1].find_all('table'),headings):\n",
    "    t_headers=[]\n",
    "    for th in table.find_all('th'):\n",
    "        t_headers.append(th.text.strip())\n",
    "        \n",
    "    table_data=[]\n",
    "    for tr in table.tbody.find_all('tr'):\n",
    "        t_row={}\n",
    "        for td,th in zip(tr.find_all('td'),t_headers):\n",
    "            t_row[th]=td.text.strip()\n",
    "        table_data.append(t_row)\n",
    "        \n",
    "    data[heading]=table_data\n",
    "   \n",
    "print(data)"
   ]
  },
  {
   "cell_type": "code",
   "execution_count": 79,
   "metadata": {},
   "outputs": [],
   "source": [
    "import pandas as pd\n",
    "df={}\n",
    "for h,i in zip(headings,range(3)):\n",
    "    df[i]=pd.DataFrame.from_dict(data[h])"
   ]
  },
  {
   "cell_type": "code",
   "execution_count": 80,
   "metadata": {},
   "outputs": [],
   "source": [
    "# #writing in csv\n",
    "# import csv\n",
    "# for topic, table in data.items():\n",
    "#     # Create csv file for each table\n",
    "#     with open(f\"{topic}.csv\", 'w') as out_file:\n",
    "#         # Each 3 table has headers as following\n",
    "#         headers = [ \n",
    "#             \"Country/Territory\",\n",
    "#             \"GDP(US$million)\",\n",
    "#             \"Rank\"\n",
    "#         ] # == t_headers\n",
    "#         writer = csv.DictWriter(out_file, headers)\n",
    "#         # write the header\n",
    "#         writer.writeheader()\n",
    "#         for row in table:\n",
    "#             if row:\n",
    "#                 writer.writerow(row)"
   ]
  },
  {
   "cell_type": "code",
   "execution_count": 86,
   "metadata": {},
   "outputs": [
    {
     "data": {
      "text/html": [
       "<div>\n",
       "<style scoped>\n",
       "    .dataframe tbody tr th:only-of-type {\n",
       "        vertical-align: middle;\n",
       "    }\n",
       "\n",
       "    .dataframe tbody tr th {\n",
       "        vertical-align: top;\n",
       "    }\n",
       "\n",
       "    .dataframe thead th {\n",
       "        text-align: right;\n",
       "    }\n",
       "</style>\n",
       "<table border=\"1\" class=\"dataframe\">\n",
       "  <thead>\n",
       "    <tr style=\"text-align: right;\">\n",
       "      <th></th>\n",
       "      <th>Rank</th>\n",
       "      <th>Country/Territory</th>\n",
       "      <th>GDP(US$million)</th>\n",
       "    </tr>\n",
       "  </thead>\n",
       "  <tbody>\n",
       "    <tr>\n",
       "      <th>0</th>\n",
       "      <td>NaN</td>\n",
       "      <td>NaN</td>\n",
       "      <td>NaN</td>\n",
       "    </tr>\n",
       "    <tr>\n",
       "      <th>1</th>\n",
       "      <td></td>\n",
       "      <td>World[19]</td>\n",
       "      <td>87,265,226</td>\n",
       "    </tr>\n",
       "    <tr>\n",
       "      <th>2</th>\n",
       "      <td>1</td>\n",
       "      <td>United States</td>\n",
       "      <td>21,439,453</td>\n",
       "    </tr>\n",
       "    <tr>\n",
       "      <th>3</th>\n",
       "      <td>—</td>\n",
       "      <td>European Union[23][n 1]</td>\n",
       "      <td>18,705,132</td>\n",
       "    </tr>\n",
       "    <tr>\n",
       "      <th>4</th>\n",
       "      <td>2</td>\n",
       "      <td>China[n 2]</td>\n",
       "      <td>14,140,163</td>\n",
       "    </tr>\n",
       "    <tr>\n",
       "      <th>...</th>\n",
       "      <td>...</td>\n",
       "      <td>...</td>\n",
       "      <td>...</td>\n",
       "    </tr>\n",
       "    <tr>\n",
       "      <th>190</th>\n",
       "      <td>182</td>\n",
       "      <td>Palau</td>\n",
       "      <td>291</td>\n",
       "    </tr>\n",
       "    <tr>\n",
       "      <th>191</th>\n",
       "      <td>183</td>\n",
       "      <td>Marshall Islands</td>\n",
       "      <td>220</td>\n",
       "    </tr>\n",
       "    <tr>\n",
       "      <th>192</th>\n",
       "      <td>184</td>\n",
       "      <td>Kiribati</td>\n",
       "      <td>184</td>\n",
       "    </tr>\n",
       "    <tr>\n",
       "      <th>193</th>\n",
       "      <td>185</td>\n",
       "      <td>Nauru</td>\n",
       "      <td>108</td>\n",
       "    </tr>\n",
       "    <tr>\n",
       "      <th>194</th>\n",
       "      <td>186</td>\n",
       "      <td>Tuvalu</td>\n",
       "      <td>42</td>\n",
       "    </tr>\n",
       "  </tbody>\n",
       "</table>\n",
       "<p>195 rows × 3 columns</p>\n",
       "</div>"
      ],
      "text/plain": [
       "    Rank        Country/Territory GDP(US$million)\n",
       "0    NaN                      NaN             NaN\n",
       "1                       World[19]      87,265,226\n",
       "2      1            United States      21,439,453\n",
       "3      —  European Union[23][n 1]      18,705,132\n",
       "4      2               China[n 2]      14,140,163\n",
       "..   ...                      ...             ...\n",
       "190  182                    Palau             291\n",
       "191  183         Marshall Islands             220\n",
       "192  184                 Kiribati             184\n",
       "193  185                    Nauru             108\n",
       "194  186                   Tuvalu              42\n",
       "\n",
       "[195 rows x 3 columns]"
      ]
     },
     "execution_count": 86,
     "metadata": {},
     "output_type": "execute_result"
    }
   ],
   "source": [
    "df[0]"
   ]
  },
  {
   "cell_type": "code",
   "execution_count": 87,
   "metadata": {},
   "outputs": [
    {
     "data": {
      "text/html": [
       "<div>\n",
       "<style scoped>\n",
       "    .dataframe tbody tr th:only-of-type {\n",
       "        vertical-align: middle;\n",
       "    }\n",
       "\n",
       "    .dataframe tbody tr th {\n",
       "        vertical-align: top;\n",
       "    }\n",
       "\n",
       "    .dataframe thead th {\n",
       "        text-align: right;\n",
       "    }\n",
       "</style>\n",
       "<table border=\"1\" class=\"dataframe\">\n",
       "  <thead>\n",
       "    <tr style=\"text-align: right;\">\n",
       "      <th></th>\n",
       "      <th>Rank</th>\n",
       "      <th>Country/Territory</th>\n",
       "      <th>GDP(US$million)</th>\n",
       "    </tr>\n",
       "  </thead>\n",
       "  <tbody>\n",
       "    <tr>\n",
       "      <th>0</th>\n",
       "      <td>NaN</td>\n",
       "      <td>NaN</td>\n",
       "      <td>NaN</td>\n",
       "    </tr>\n",
       "    <tr>\n",
       "      <th>1</th>\n",
       "      <td></td>\n",
       "      <td>World</td>\n",
       "      <td>87,751,541</td>\n",
       "    </tr>\n",
       "    <tr>\n",
       "      <th>2</th>\n",
       "      <td>1</td>\n",
       "      <td>United States</td>\n",
       "      <td>21,427,700</td>\n",
       "    </tr>\n",
       "    <tr>\n",
       "      <th>3</th>\n",
       "      <td>2</td>\n",
       "      <td>China[n 5]</td>\n",
       "      <td>14,342,903</td>\n",
       "    </tr>\n",
       "    <tr>\n",
       "      <th>4</th>\n",
       "      <td>3</td>\n",
       "      <td>Japan</td>\n",
       "      <td>5,081,770</td>\n",
       "    </tr>\n",
       "    <tr>\n",
       "      <th>...</th>\n",
       "      <td>...</td>\n",
       "      <td>...</td>\n",
       "      <td>...</td>\n",
       "    </tr>\n",
       "    <tr>\n",
       "      <th>187</th>\n",
       "      <td>180</td>\n",
       "      <td>Palau</td>\n",
       "      <td>284 (2018)</td>\n",
       "    </tr>\n",
       "    <tr>\n",
       "      <th>188</th>\n",
       "      <td>181</td>\n",
       "      <td>Marshall Islands</td>\n",
       "      <td>221 (2018)</td>\n",
       "    </tr>\n",
       "    <tr>\n",
       "      <th>189</th>\n",
       "      <td>182</td>\n",
       "      <td>Kiribati</td>\n",
       "      <td>195</td>\n",
       "    </tr>\n",
       "    <tr>\n",
       "      <th>190</th>\n",
       "      <td>183</td>\n",
       "      <td>Nauru</td>\n",
       "      <td>118</td>\n",
       "    </tr>\n",
       "    <tr>\n",
       "      <th>191</th>\n",
       "      <td>184</td>\n",
       "      <td>Tuvalu</td>\n",
       "      <td>47</td>\n",
       "    </tr>\n",
       "  </tbody>\n",
       "</table>\n",
       "<p>192 rows × 3 columns</p>\n",
       "</div>"
      ],
      "text/plain": [
       "    Rank Country/Territory GDP(US$million)\n",
       "0    NaN               NaN             NaN\n",
       "1                    World      87,751,541\n",
       "2      1     United States      21,427,700\n",
       "3      2        China[n 5]      14,342,903\n",
       "4      3             Japan       5,081,770\n",
       "..   ...               ...             ...\n",
       "187  180             Palau      284 (2018)\n",
       "188  181  Marshall Islands      221 (2018)\n",
       "189  182          Kiribati             195\n",
       "190  183             Nauru             118\n",
       "191  184            Tuvalu              47\n",
       "\n",
       "[192 rows x 3 columns]"
      ]
     },
     "execution_count": 87,
     "metadata": {},
     "output_type": "execute_result"
    }
   ],
   "source": [
    "df[1]"
   ]
  },
  {
   "cell_type": "code",
   "execution_count": 88,
   "metadata": {},
   "outputs": [
    {
     "data": {
      "text/html": [
       "<div>\n",
       "<style scoped>\n",
       "    .dataframe tbody tr th:only-of-type {\n",
       "        vertical-align: middle;\n",
       "    }\n",
       "\n",
       "    .dataframe tbody tr th {\n",
       "        vertical-align: top;\n",
       "    }\n",
       "\n",
       "    .dataframe thead th {\n",
       "        text-align: right;\n",
       "    }\n",
       "</style>\n",
       "<table border=\"1\" class=\"dataframe\">\n",
       "  <thead>\n",
       "    <tr style=\"text-align: right;\">\n",
       "      <th></th>\n",
       "      <th>Rank</th>\n",
       "      <th>Country/Territory</th>\n",
       "      <th>GDP(US$million)</th>\n",
       "    </tr>\n",
       "  </thead>\n",
       "  <tbody>\n",
       "    <tr>\n",
       "      <th>0</th>\n",
       "      <td>NaN</td>\n",
       "      <td>NaN</td>\n",
       "      <td>NaN</td>\n",
       "    </tr>\n",
       "    <tr>\n",
       "      <th>1</th>\n",
       "      <td></td>\n",
       "      <td>World[25]</td>\n",
       "      <td>85,085,189</td>\n",
       "    </tr>\n",
       "    <tr>\n",
       "      <th>2</th>\n",
       "      <td>1</td>\n",
       "      <td>United States</td>\n",
       "      <td>20,580,223</td>\n",
       "    </tr>\n",
       "    <tr>\n",
       "      <th>3</th>\n",
       "      <td>2</td>\n",
       "      <td>China[n 5]</td>\n",
       "      <td>13,608,152</td>\n",
       "    </tr>\n",
       "    <tr>\n",
       "      <th>4</th>\n",
       "      <td>3</td>\n",
       "      <td>Japan</td>\n",
       "      <td>4,971,323</td>\n",
       "    </tr>\n",
       "    <tr>\n",
       "      <th>...</th>\n",
       "      <td>...</td>\n",
       "      <td>...</td>\n",
       "      <td>...</td>\n",
       "    </tr>\n",
       "    <tr>\n",
       "      <th>210</th>\n",
       "      <td>190</td>\n",
       "      <td>Marshall Islands</td>\n",
       "      <td>214</td>\n",
       "    </tr>\n",
       "    <tr>\n",
       "      <th>211</th>\n",
       "      <td>191</td>\n",
       "      <td>Kiribati</td>\n",
       "      <td>189</td>\n",
       "    </tr>\n",
       "    <tr>\n",
       "      <th>212</th>\n",
       "      <td>192</td>\n",
       "      <td>Nauru</td>\n",
       "      <td>127</td>\n",
       "    </tr>\n",
       "    <tr>\n",
       "      <th>213</th>\n",
       "      <td>—</td>\n",
       "      <td>Montserrat</td>\n",
       "      <td>64</td>\n",
       "    </tr>\n",
       "    <tr>\n",
       "      <th>214</th>\n",
       "      <td>193</td>\n",
       "      <td>Tuvalu</td>\n",
       "      <td>46</td>\n",
       "    </tr>\n",
       "  </tbody>\n",
       "</table>\n",
       "<p>215 rows × 3 columns</p>\n",
       "</div>"
      ],
      "text/plain": [
       "    Rank Country/Territory GDP(US$million)\n",
       "0    NaN               NaN             NaN\n",
       "1                World[25]      85,085,189\n",
       "2      1     United States      20,580,223\n",
       "3      2        China[n 5]      13,608,152\n",
       "4      3             Japan       4,971,323\n",
       "..   ...               ...             ...\n",
       "210  190  Marshall Islands             214\n",
       "211  191          Kiribati             189\n",
       "212  192             Nauru             127\n",
       "213    —        Montserrat              64\n",
       "214  193            Tuvalu              46\n",
       "\n",
       "[215 rows x 3 columns]"
      ]
     },
     "execution_count": 88,
     "metadata": {},
     "output_type": "execute_result"
    }
   ],
   "source": [
    "df[2]"
   ]
  },
  {
   "cell_type": "code",
   "execution_count": null,
   "metadata": {},
   "outputs": [],
   "source": []
  }
 ],
 "metadata": {
  "kernelspec": {
   "display_name": "Python 3",
   "language": "python",
   "name": "python3"
  },
  "language_info": {
   "codemirror_mode": {
    "name": "ipython",
    "version": 3
   },
   "file_extension": ".py",
   "mimetype": "text/x-python",
   "name": "python",
   "nbconvert_exporter": "python",
   "pygments_lexer": "ipython3",
   "version": "3.7.7"
  }
 },
 "nbformat": 4,
 "nbformat_minor": 4
}
